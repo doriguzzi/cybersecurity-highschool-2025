{
 "cells": [
  {
   "cell_type": "markdown",
   "metadata": {},
   "source": [
    "# Alberi decisionali per fare previsioni\n",
    "In questo laboratorio addestriamo un albero decisionale con dati sintetici per un problema di regressione (previsione di un numero reale). In questo esempio, simuliamo la previsione della dimensione media dei pacchetti di un flusso data la durata di quel flusso."
   ]
  },
  {
   "cell_type": "code",
   "execution_count": null,
   "metadata": {},
   "outputs": [],
   "source": [
    "# Author: Roberto Doriguzzi-Corin\n",
    "# Project: Corso di Algoritmi di Machine Learning per la rilevazione di attacchi informatici\n",
    "#\n",
    "# Licensed under the Apache License, Version 2.0 (the \"License\");\n",
    "# you may not use this file except in compliance with the License.\n",
    "# You may obtain a copy of the License at\n",
    "#\n",
    "#   http://www.apache.org/licenses/LICENSE-2.0\n",
    "#\n",
    "# Unless required by applicable law or agreed to in writing, software\n",
    "# distributed under the License is distributed on an \"AS IS\" BASIS,\n",
    "# WITHOUT WARRANTIES OR CONDITIONS OF ANY KIND, either express or implied.\n",
    "# See the License for the specific language governing permissions and\n",
    "# limitations under the License.\n",
    "\n",
    "# Import necessary libraries\n",
    "import numpy as np\n",
    "from sklearn.tree import DecisionTreeRegressor, plot_tree\n",
    "import matplotlib.pyplot as plt\n",
    "\n",
    "OUTPUT_FILE = \"./reg_tree\"\n",
    "\n",
    "# Generate some sample data (a sin function with some random noise)\n",
    "np.random.seed(0)\n",
    "m = 100 \n",
    "X_train = 12 * np.random.rand(m, 1) +8\n",
    "y_train = (-(X_train-8)**4 + 50000 + 3000*np.random.randn(m, 1))/10000-2\n",
    "\n",
    "np.random.seed(1)\n",
    "X_test = 12 * np.random.rand(m, 1) +8\n",
    "y_test = (-(X_test-8)**4 + 50000 + 3000*np.random.randn(m, 1))/10000-2"
   ]
  },
  {
   "cell_type": "markdown",
   "metadata": {},
   "source": [
    "# Mostriamo i campioni che abbiamo raccolto\n",
    "Questi campioni rappresentano il packet rate (pacchetti al secondo) rilevati nella rete a diverse ore del giorni. Questi campioni posso essere usati per addestrare un algoritmo di machine learning. In questo esempio, addestreremo un albero decisionale."
   ]
  },
  {
   "cell_type": "code",
   "execution_count": null,
   "metadata": {},
   "outputs": [],
   "source": [
    "# Plot the results\n",
    "plt.figure()\n",
    "plt.scatter(X_train, y_train, s=20, edgecolor=\"black\", c=\"yellow\", label=\"data\")\n",
    "plt.xlabel(\"Ora del giorno\")\n",
    "plt.ylabel(\"Packet Rate\")\n",
    "plt.title(\"Volume di traffico di rete\")\n",
    "plt.legend()\n",
    "plt.show()"
   ]
  },
  {
   "cell_type": "markdown",
   "metadata": {},
   "source": [
    "# Albero decisionale per prevedere il traffico di rete ad ogni ora del giorno\n",
    "Usiamo questi dati per prevedere il volume di traffico che ci aspettiamo a qualsiasi ora del giorno compresa tra le 8 di mattina e le 8 di sera. Il modello mi dice il volume di traffico che mi aspetto normalmente, se non ci sono attacchi di rete."
   ]
  },
  {
   "cell_type": "code",
   "execution_count": null,
   "metadata": {},
   "outputs": [],
   "source": [
    "# Fit a decision tree regressor\n",
    "tree_regr = DecisionTreeRegressor(max_depth=2) # try with min_samples_leaf to avoid overfitting\n",
    "tree_regr.fit(X_train, y_train)\n",
    "\n",
    "# Plot the decision tree\n",
    "plt.figure(figsize=(10, 6))\n",
    "plot_tree(tree_regr, filled=True, feature_names=[\"Ora del giorno\"])\n",
    "plt.title(\"Albero decisionale\")\n",
    "plt.show()"
   ]
  },
  {
   "cell_type": "markdown",
   "metadata": {},
   "source": [
    "# Visualizziamo come l'albero decisionale effettua le previsioni\n",
    "Provate a cambiare i parametri dell'albero decisionale (es: ```max_depth```, ```min_samples_split``` e ```min_samples_leaf```) e cercate di capire come cambia il modello.\n",
    "Se aumentate la dimensione dell'albero (numero di palchi), il modello migliora sempre?"
   ]
  },
  {
   "cell_type": "code",
   "execution_count": null,
   "metadata": {},
   "outputs": [],
   "source": [
    "# Predictions (numbers from 0 to 20 with increment 0.01)\n",
    "X_plot = np.arange(8, 20, 0.01)[:, np.newaxis]\n",
    "y_pred = tree_regr.predict(X_plot)\n",
    "\n",
    "# Plot the results\n",
    "plt.figure()\n",
    "plt.scatter(X_train, y_train, s=20, edgecolor=\"black\", c=\"yellow\", label=\"Campioni di addestramento\")\n",
    "plt.plot(X_plot, y_pred, color=\"cornflowerblue\", label=\"modello\")\n",
    "plt.xlabel(\"Ora del giorno\")\n",
    "plt.ylabel(\"Packet Rate\")\n",
    "plt.title(\"Volume di traffico di rete\")\n",
    "plt.legend()\n",
    "plt.show()"
   ]
  },
  {
   "cell_type": "markdown",
   "metadata": {},
   "source": [
    "# Misuriamo come il modello rappresenta i campioni di addestramento\n",
    "Per fare questo, usiamo i campioni di addestramento per fare delle previsioni con l'albero decisionale. Confrontriamo poi il risultato con il valore atteso e facciamo la differenza. Questa differenza (errore) ci dice quanto \"bene\" ha imparato il modello. Piu' piccolo e' l'errore, meglio e'.\n"
   ]
  },
  {
   "cell_type": "code",
   "execution_count": null,
   "metadata": {},
   "outputs": [],
   "source": [
    "from sklearn.metrics import mean_squared_error\n",
    "\n",
    "y_pred = tree_regr.predict(X_train)\n",
    "mse = mean_squared_error(y_train,y_pred)\n",
    "print(\"Errore nelle previsioni sui campioni usati per l'addestramento: \", mse)"
   ]
  },
  {
   "cell_type": "markdown",
   "metadata": {},
   "source": [
    "# Vediamo come il modello si comporta con dei campioni di traffico normale mai visti\n",
    "In questo caso usiamo degli altri campioni che rappresentazione delle rilevazioni del packet rate in condizioni normali (nessun attacco). Questi campioni non sono stati usati per l'addestramento e ci servono per capire se il modello ha imparato bene."
   ]
  },
  {
   "cell_type": "code",
   "execution_count": null,
   "metadata": {},
   "outputs": [],
   "source": [
    "X_plot = np.arange(8, 20, 0.01)[:, np.newaxis]\n",
    "y_pred = tree_regr.predict(X_plot)\n",
    "\n",
    "plt.figure()\n",
    "plt.scatter(X_test, y_test, s=20, edgecolor=\"black\", c=\"yellow\", label=\"Campioni di test\")\n",
    "plt.plot(X_plot, y_pred, color=\"cornflowerblue\", label=\"modello\")\n",
    "plt.xlabel(\"Ora del giorno\")\n",
    "plt.ylabel(\"Packet Rate\")\n",
    "plt.title(\"Volume di traffico di rete\")\n",
    "plt.legend()\n",
    "plt.show()\n",
    "\n",
    "y_pred = tree_regr.predict(X_test)\n",
    "mse = mean_squared_error(y_test,y_pred)\n",
    "print(\"Errore nelle previsioni sui campioni di test: \", mse)"
   ]
  },
  {
   "cell_type": "markdown",
   "metadata": {},
   "source": [
    "# Rilevazione delle anomalie con l'albero decisionale\n",
    "Ora usiamo l'albero decisionale che abbiamo addestrato per rilevare le anomalie di rete. In questo caso vogliamo rilevare un packet rate piu' alto rispetto al normale. Fenomeno che potrebbe indicare un attacco di rete di tipo DDoS volumetrico. Prima generiamo e visualizziamo le anomalie."
   ]
  },
  {
   "cell_type": "code",
   "execution_count": null,
   "metadata": {},
   "outputs": [],
   "source": [
    "# Generiamo alcune anomalie\n",
    "a = 10\n",
    "X_train_anomaly = 2 * np.random.rand(a, 1) +16\n",
    "y_train_anomaly = (-(X_train_anomaly-8)**4 + 50000 + 3000*np.random.randn(a, 1))/10000-2 + 1\n",
    "\n",
    "X_plot = np.arange(8, 20, 0.01)[:, np.newaxis]\n",
    "y_pred = tree_regr.predict(X_plot)\n",
    "\n",
    "plt.figure()\n",
    "plt.scatter(X_train, y_train, s=20, edgecolor=\"black\", c=\"yellow\", label=\"Dati normali\")\n",
    "plt.scatter(X_train_anomaly, y_train_anomaly, s=20, edgecolor=\"black\", c=\"red\", label=\"Anomalie\")\n",
    "plt.plot(X_plot, y_pred, color=\"cornflowerblue\", label=\"modello\")\n",
    "plt.xlabel(\"Ora del giorno\")\n",
    "plt.ylabel(\"Packet Rate\")\n",
    "plt.title(\"Volume di traffico di rete\")\n",
    "plt.legend()\n",
    "plt.show()"
   ]
  },
  {
   "cell_type": "markdown",
   "metadata": {},
   "source": [
    "# Misura dell'errore\n",
    "Misurariamo l'errore di previsione sui campioni anomali. E' piu' alto o piu' basso?"
   ]
  },
  {
   "cell_type": "code",
   "execution_count": null,
   "metadata": {},
   "outputs": [],
   "source": [
    "y_pred = tree_regr.predict(X_train_anomaly)\n",
    "mse = mean_squared_error(y_train_anomaly,y_pred)\n",
    "print(\"Errore sui campioni anomali: \", mse)"
   ]
  }
 ],
 "metadata": {
  "kernelspec": {
   "display_name": "python39",
   "language": "python",
   "name": "python3"
  },
  "language_info": {
   "codemirror_mode": {
    "name": "ipython",
    "version": 3
   },
   "file_extension": ".py",
   "mimetype": "text/x-python",
   "name": "python",
   "nbconvert_exporter": "python",
   "pygments_lexer": "ipython3",
   "version": "3.9.15"
  },
  "orig_nbformat": 4
 },
 "nbformat": 4,
 "nbformat_minor": 2
}
