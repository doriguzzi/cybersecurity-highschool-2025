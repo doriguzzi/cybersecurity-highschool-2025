{
 "cells": [
  {
   "cell_type": "markdown",
   "metadata": {},
   "source": [
    "# Albero decisionale per la classificazione del traffico di rete. \n",
    "In questo laboratorio, addestriamo un albero decisionale (DT) con traffico di rete benigno e quattro classi di attacchi DDoS dal dataset CIC-DDoS2019 dell’Università del New Brunswick. Il traffico di rete è stato precedentemente pre-elaborato in modo che i pacchetti siano raggruppati in flussi di traffico bidirezionali utilizzando la 5-tupla (IP sorgente, IP destinazione, porta sorgente, porta destinazione, protocollo). Ogni flusso è rappresentato da 21 features (attributi) dell’header dei pacchetti calcolate da un massimo di 1000 pacchetti:\n",
    "\n",
    "| Feature nr.         | Feature Name |\n",
    "|---------------------|---------------------|\n",
    "| 00 | timestamp (mean IAT) | \n",
    "| 01 | packet_length (mean)| \n",
    "| 02 | IP_flags_df (sum) |\n",
    "| 03 | IP_flags_mf (sum) |\n",
    "| 04 | IP_flags_rb (sum) | \n",
    "| 05 | IP_frag_off (sum) |\n",
    "| 06 | protocols (mean) |\n",
    "| 07 | TCP_length (mean) |\n",
    "| 08 | TCP_flags_ack (sum) |\n",
    "| 09 | TCP_flags_cwr (sum) |\n",
    "| 10 | TCP_flags_ece (sum) |\n",
    "| 11 | TCP_flags_fin (sum) |\n",
    "| 12 | TCP_flags_push (sum) |\n",
    "| 13 | TCP_flags_res (sum) |\n",
    "| 14 | TCP_flags_reset (sum) |\n",
    "| 15 | TCP_flags_syn (sum) |\n",
    "| 16 | TCP_flags_urg (sum) |\n",
    "| 17 | TCP_window_size (mean) |\n",
    "| 18 | UDP_length (mean) |\n",
    "| 19 | ICMP_type (mean) |\n",
    "| 20 | Packets (counter)|"
   ]
  },
  {
   "cell_type": "markdown",
   "metadata": {},
   "source": [
    "# Importazione delle librerie necessarie"
   ]
  },
  {
   "cell_type": "code",
   "execution_count": null,
   "metadata": {},
   "outputs": [],
   "source": [
    "# Author: Roberto Doriguzzi-Corin\n",
    "# Project: Corso di Algoritmi di Machine Learning per la rilevazione di attacchi informatici\n",
    "#\n",
    "# Licensed under the Apache License, Version 2.0 (the \"License\");\n",
    "# you may not use this file except in compliance with the License.\n",
    "# You may obtain a copy of the License at\n",
    "#\n",
    "#   http://www.apache.org/licenses/LICENSE-2.0\n",
    "#\n",
    "# Unless required by applicable law or agreed to in writing, software\n",
    "# distributed under the License is distributed on an \"AS IS\" BASIS,\n",
    "# WITHOUT WARRANTIES OR CONDITIONS OF ANY KIND, either express or implied.\n",
    "# See the License for the specific language governing permissions and\n",
    "# limitations under the License.\n",
    "\n",
    "import os\n",
    "from IPython.display import display, Image\n",
    "from sklearn.tree import DecisionTreeClassifier, export_graphviz\n",
    "from sklearn import metrics \n",
    "from util_functions import *\n",
    "\n",
    "OUTPUT_FILE = \"./ddos_tree\"\n",
    "DATASET_FOLDER = \"../Dataset/\""
   ]
  },
  {
   "cell_type": "markdown",
   "metadata": {},
   "source": [
    "# Caricamento del dataset e altre funzioni"
   ]
  },
  {
   "cell_type": "code",
   "execution_count": null,
   "metadata": {},
   "outputs": [],
   "source": [
    "X_train, y_train = load_dataset(DATASET_FOLDER + \"/*\" + '-train.hdf5')\n",
    "X_test, y_test = load_dataset(DATASET_FOLDER + \"/*\" + '-test.hdf5')\n",
    "\n",
    "feature_names = get_feature_names()\n",
    "target_names = ['benign', 'dns',  'syn', 'udplag', 'webddos'] \n",
    "\n",
    "export_graphviz(\n",
    "    tree_clf,\n",
    "    out_file=OUTPUT_FILE + \".dot\",\n",
    "    feature_names=feature_names,\n",
    "    class_names=target_names,\n",
    "    rounded=True,\n",
    "    filled=True\n",
    ")"
   ]
  },
  {
   "cell_type": "markdown",
   "metadata": {},
   "source": [
    "# Addestramento dell'albero decisionale\n",
    "L'albero decisionale puo' essere configurato con diversi parametri. Questi parametri servono per indicare quanti dettagli del training set l'albero deve imparare. I parametri piu' comuni sono:\n",
    "- ```max_depth```: profondita' dell'albero (numero di strati)\n",
    "- ```min_samples_split```: Numero minimo di campioni richiesti per dividere un nodo interno in un albero decisionale.\n",
    "    - **Esempio**: se ```min_samples_split``` è impostato a 50, allora ogni divisione nell’albero deve avere almeno 50 campioni. Ciò significa che solo i nodi con piu' di 50 campioni possono essere divisi in due nodi figli, e i nodi foglia devono avere meno di 50 campioni.\n",
    "- ```min_samples_leaf```: Numero minimo di campioni richiesti per essere in un nodo foglia.\n",
    "    - **Esempio**: se ```min_samples_leaf``` è impostato a 20, allora ogni nodo foglia nell’albero deve avere almeno 20 campioni. Ciò significa che, anche se un nodo ha più di 50 campioni, non verrà diviso in due nodi figli se ciò comporterebbe la creazione di un nodo foglia con meno di 20 campioni.\n",
    "\n",
    "**Suggerimento**: provate a cambiare i parametri della funzione ```DecisionTreeClassifier``` ed i loro valori."
   ]
  },
  {
   "cell_type": "code",
   "execution_count": null,
   "metadata": {},
   "outputs": [],
   "source": [
    "tree_clf = DecisionTreeClassifier(max_depth=3) # altri parametri sono min_samples_split e min_samples_leaf\n",
    "tree_clf.fit(X_train,y_train)"
   ]
  },
  {
   "cell_type": "markdown",
   "metadata": {},
   "source": [
    "# L'albero decisionale addestrato"
   ]
  },
  {
   "cell_type": "code",
   "execution_count": null,
   "metadata": {},
   "outputs": [],
   "source": [
    "os.system(\"dot -Tpng \" + OUTPUT_FILE + \".dot -o \" + OUTPUT_FILE + \".png\")\n",
    "display(Image(filename=OUTPUT_FILE + \".png\"))"
   ]
  },
  {
   "cell_type": "markdown",
   "metadata": {},
   "source": [
    "## Classificazione\n",
    "Ora utilizziamo l’albero decisionale addestrato per classificare campioni di traffico non usati per l'addestramento (il set di test)."
   ]
  },
  {
   "cell_type": "code",
   "execution_count": null,
   "metadata": {},
   "outputs": [],
   "source": [
    "y_pred = tree_clf.predict(X_test)\n",
    "\n",
    "for y_index in range(y_pred.shape[0]):\n",
    "    dt_result_string = \"\" if y_pred[y_index] == y_test[y_index] else \" <-- Errore!!! Classificato \" + target_names[y_pred[y_index]] + \" invece di \" + target_names[y_test[y_index]]\n",
    "    print (\"Campione \" + str(y_index) + \" - \" + \"Classificato come: \" + str(y_pred[y_index]) + \" Classe vera (label): \" + str(y_test[y_index]) + dt_result_string)\n"
   ]
  },
  {
   "cell_type": "markdown",
   "metadata": {},
   "source": [
    "# Analizziamo gli errori del modello\n",
    "Gli alberi decisionali sono intuitivi e le loro decisioni sono facili da interpretare. Al contrario, come vedremo, le Random Forests o le reti neurali sono generalmente molto piu' difficili da analizzare ed e' piu' compicato capire il motivo delle loro decisioni.\n",
    "\n",
    "Vediamo dove l’albero decisionale ha sbagliato!"
   ]
  },
  {
   "cell_type": "code",
   "execution_count": null,
   "metadata": {},
   "outputs": [],
   "source": [
    "float_formatter = \"{:.2f}\".format\n",
    "np.set_printoptions(formatter={'float_kind':float_formatter})\n",
    "                    \n",
    "for y_index in range(y_pred.shape[0]):\n",
    "    if y_pred[y_index] != y_test[y_index]:\n",
    "        print(\"Campione sbagliato n. \" + str(y_index) + \" (Classificato \" + target_names[y_pred[y_index]] + \" invece di \" + target_names[y_test[y_index]] + \")\")\n",
    "        for feature_index in range(len(feature_names)):\n",
    "            print (feature_names[feature_index] + \": \" + str(X_test[y_index][feature_index]))\n",
    "        print(\"\")"
   ]
  },
  {
   "cell_type": "markdown",
   "metadata": {},
   "source": [
    "# Accuratezza\n",
    "Ora supponiamo di voler capire solo qual'e' il traffico benigno da quello malevolo. Questo ci permette di bloccare tutto cio' che non e' benigno. "
   ]
  },
  {
   "cell_type": "code",
   "execution_count": null,
   "metadata": {},
   "outputs": [],
   "source": [
    "import matplotlib.pyplot as plt\n",
    "from sklearn.metrics import ConfusionMatrixDisplay, accuracy_score, confusion_matrix\n",
    "np.set_printoptions(precision=2)\n",
    "\n",
    "y_test_binary = (y_test > 0).astype(int)\n",
    "y_pred_binary = (y_pred > 0).astype(int)\n",
    "\n",
    "cm = confusion_matrix(y_test_binary, y_pred_binary)\n",
    "disp = ConfusionMatrixDisplay(confusion_matrix=cm,display_labels=['Benigno', 'DDoS'])\n",
    "disp.plot(cmap='Blues')\n",
    "plt.title('Confusion Matrix')\n",
    "plt.show()"
   ]
  },
  {
   "cell_type": "markdown",
   "metadata": {},
   "source": [
    "# Calcoliamo l'accuratezza del modello\n",
    "Usate i valori della confusion matrix ottenuta sopra per calcolare l'accuratezza.\n",
    "Come primo passo, dovete assegnare i valori giusti alle seguenti variabili:\n",
    "- ```tn``` (true negative)\n",
    "- ```fp``` (false positive)\n",
    "- ```fn``` (false negative)\n",
    "- ```tp``` (true negative)\n",
    "Nel secondo passo, usate queste variabili per calcolare l'accuratezza."
   ]
  },
  {
   "cell_type": "code",
   "execution_count": null,
   "metadata": {},
   "outputs": [],
   "source": [
    "tn =\n",
    "fp =\n",
    "fn = \n",
    "tp =\n",
    "\n",
    "accuratezza = \n",
    "print (\"Accuratezza dell'albero decisionale: \", accuratezza)"
   ]
  },
  {
   "cell_type": "markdown",
   "metadata": {},
   "source": [
    "# Matrice di confusione multi-classe\n",
    "Ora ritorniamo alle nostre 5 classi di traffic (benigno e 4 attacchi) e analizziamo in dettaglio il risultato della classificazione dell'albero decisionale."
   ]
  },
  {
   "cell_type": "code",
   "execution_count": null,
   "metadata": {},
   "outputs": [],
   "source": [
    "import matplotlib.pyplot as plt\n",
    "from sklearn.metrics import ConfusionMatrixDisplay, accuracy_score, classification_report\n",
    "np.set_printoptions(precision=2)\n",
    "\n",
    "cm = confusion_matrix(y_test, y_pred)\n",
    "disp = ConfusionMatrixDisplay(confusion_matrix=cm,display_labels=target_names)\n",
    "disp.plot(cmap='Blues')\n",
    "plt.title('Confusion Matrix')\n",
    "plt.show()"
   ]
  }
 ],
 "metadata": {
  "kernelspec": {
   "display_name": "python39",
   "language": "python",
   "name": "python3"
  },
  "language_info": {
   "codemirror_mode": {
    "name": "ipython",
    "version": 3
   },
   "file_extension": ".py",
   "mimetype": "text/x-python",
   "name": "python",
   "nbconvert_exporter": "python",
   "pygments_lexer": "ipython3",
   "version": "3.9.15"
  },
  "orig_nbformat": 4
 },
 "nbformat": 4,
 "nbformat_minor": 2
}
