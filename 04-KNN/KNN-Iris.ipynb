{
 "cells": [
  {
   "cell_type": "markdown",
   "metadata": {},
   "source": [
    "# Classificazione dei fiori Iris con l'algoritmo K-Nearest Neighbors (KNN)\n",
    "Questo notebook usa l'algoritmo KNN per classificare le immagini di fiori \"iris\" in tre classi: Setosa, Versicolor, Virginica.\n",
    "In questo laboratorio potere provare a cambiare il valore di ```k``` per vedere come cambia l'accuratezza del modello. Inoltre, potete inserire dei valori a vostro piaciemento (lunghezza di petali e sepali) per capire come il modello ragiona.\n",
    "\n",
    "| <img src=\"./Iris-Dataset.png\" width=\"90%\">  |\n",
    "|--|"
   ]
  },
  {
   "cell_type": "markdown",
   "metadata": {},
   "source": [
    "# Importazione delle librerie necessarie"
   ]
  },
  {
   "cell_type": "code",
   "execution_count": null,
   "metadata": {},
   "outputs": [],
   "source": [
    "# Author: Roberto Doriguzzi-Corin\n",
    "# Project: Corso di Algoritmi di Machine Learning per la rilevazione di attacchi informatici\n",
    "#\n",
    "# Licensed under the Apache License, Version 2.0 (the \"License\");\n",
    "# you may not use this file except in compliance with the License.\n",
    "# You may obtain a copy of the License at\n",
    "#\n",
    "#   http://www.apache.org/licenses/LICENSE-2.0\n",
    "#\n",
    "# Unless required by applicable law or agreed to in writing, software\n",
    "# distributed under the License is distributed on an \"AS IS\" BASIS,\n",
    "# WITHOUT WARRANTIES OR CONDITIONS OF ANY KIND, either express or implied.\n",
    "# See the License for the specific language governing permissions and\n",
    "# limitations under the License.\n",
    "\n",
    "import numpy as np\n",
    "import matplotlib.pyplot as plt\n",
    "from sklearn import datasets\n",
    "from sklearn.model_selection import train_test_split\n",
    "from sklearn.preprocessing import StandardScaler\n",
    "from sklearn.neighbors import KNeighborsClassifier\n",
    "from sklearn.metrics import accuracy_score, confusion_matrix, classification_report"
   ]
  },
  {
   "cell_type": "markdown",
   "metadata": {},
   "source": [
    "# Caricamento del dataset"
   ]
  },
  {
   "cell_type": "code",
   "execution_count": null,
   "metadata": {},
   "outputs": [],
   "source": [
    "# Carichiamo il dataset Iris\n",
    "iris = datasets.load_iris()\n",
    "X = iris.data[:, [0, 2]]  # Solo due Caratteristiche: lunghezza di sepali e petali (per visualizzazione)\n",
    "y = iris.target  # Etichette: Specie (0 = Setosa, 1 = Versicolor, 2 = Virginica)\n",
    "\n",
    "# Dividiamo i dati in training e test set\n",
    "X_train, X_test, y_train, y_test = train_test_split(X, y, test_size=0.3, random_state=42)"
   ]
  },
  {
   "cell_type": "markdown",
   "metadata": {},
   "source": [
    "# Addestramento dell'algoritmo KNN\n",
    "L'albero decisionale puo' essere configurato con un due parametri principali:\n",
    "- il parametro ```k``` che indica quanti ```vicini``` tenere in considerazione per la classificazione\n",
    "- il parametro ```weights```, che indica come assegnare l'importanza ai vicini. Il valore di default e' ```uniform```, cioe' i ```k``` punti vicini hanno la stessa importanza. L'alternativa e' ```distance```, per cui i punti piu' vicini hanno un'importanza maggiore (inversamente proporzionale alla distanza)"
   ]
  },
  {
   "cell_type": "code",
   "execution_count": null,
   "metadata": {},
   "outputs": [],
   "source": [
    "# Creiamo il modello KNN con k=3\n",
    "k = 3\n",
    "knn = KNeighborsClassifier(n_neighbors=k,weights='uniform')\n",
    "knn.fit(X_train, y_train)"
   ]
  },
  {
   "cell_type": "markdown",
   "metadata": {},
   "source": [
    "# Test del modello\n",
    "\n",
    "Qui facciamo il test con campioni mai visti prima"
   ]
  },
  {
   "cell_type": "code",
   "execution_count": null,
   "metadata": {},
   "outputs": [],
   "source": [
    "y_pred = knn.predict(X_test)\n",
    "\n",
    "print(f\"Accuratezza del modello KNN (K={k}): {accuracy_score(y_test, y_pred) * 100:.2f}%\")"
   ]
  },
  {
   "cell_type": "markdown",
   "metadata": {},
   "source": [
    "# Matrice di confusione multi-classe"
   ]
  },
  {
   "cell_type": "code",
   "execution_count": null,
   "metadata": {},
   "outputs": [],
   "source": [
    "import matplotlib.pyplot as plt\n",
    "from sklearn.metrics import ConfusionMatrixDisplay, accuracy_score, classification_report\n",
    "np.set_printoptions(precision=2)\n",
    "\n",
    "cm = confusion_matrix(y_test, y_pred)\n",
    "disp = ConfusionMatrixDisplay(confusion_matrix=cm,display_labels=['Setosa', 'Versicolor','Virginica'])\n",
    "disp.plot(cmap='Blues')\n",
    "plt.title('Confusion Matrix')\n",
    "plt.show()"
   ]
  },
  {
   "cell_type": "markdown",
   "metadata": {},
   "source": [
    "# Visualizzazione della decision boundary\n",
    "Il decision boundary determina il confine tra una classe e l'altra che il modello KNN ha imparato durante il training."
   ]
  },
  {
   "cell_type": "code",
   "execution_count": null,
   "metadata": {},
   "outputs": [],
   "source": [
    "# Creiamo una griglia di punti nello spazio delle caratteristiche\n",
    "h = 0.02\n",
    "x_min, x_max = X_train[:, 0].min() - 1, X_train[:, 0].max() + 1\n",
    "y_min, y_max = X_train[:, 1].min() - 1, X_train[:, 1].max() + 1\n",
    "xx, yy = np.meshgrid(np.arange(x_min, x_max, h), np.arange(y_min, y_max, h))\n",
    "Z = knn.predict(np.c_[xx.ravel(), yy.ravel()])\n",
    "Z = Z.reshape(xx.shape)\n",
    "\n",
    "# Plot della decision boundary\n",
    "plt.figure(figsize=(10, 6))\n",
    "plt.contourf(xx, yy, Z, alpha=0.4, cmap=plt.cm.Paired)\n",
    "plt.scatter(X_train[:, 0], X_train[:, 1], c=y_train, marker='o', edgecolor='k', label='Training', cmap=plt.cm.Paired)\n",
    "plt.scatter(X_test[:, 0], X_test[:, 1], c=y_test, marker='x', facecolor='k', label='Test', cmap=plt.cm.Paired)\n",
    "plt.xlabel('Lunghezza Sepali')\n",
    "plt.ylabel('Lunghezza Petali')\n",
    "plt.title(f'KNN con K={k} - Confini di Decisione')\n",
    "plt.legend()\n",
    "plt.grid(True)\n",
    "plt.show()"
   ]
  },
  {
   "cell_type": "markdown",
   "metadata": {},
   "source": [
    "# Prova con nuovi dati\n",
    "Inserisci dei valori di lunghezza dei sepali e dei petali e vedi come il modello KNN ragiona. \n",
    "Prova a cambiare i valori di ```k``` e/o di ```weights``` e vedi come cambia il risultato.\n",
    "\n",
    "| <img src=\"./struttura-del-fiore.png\" width=\"90%\">  |\n",
    "|--|"
   ]
  },
  {
   "cell_type": "code",
   "execution_count": null,
   "metadata": {},
   "outputs": [],
   "source": [
    "# Prevediamo la classe di un nuovo punto\n",
    "# Inserisci qui le caratteristiche del nuovo punto da prevedere\n",
    "nuovo_punto = np.array([[5.0, 2.1]])  # Esempio: lunghezza sepali = 5.0, lunghezza petali = 2.1\n",
    "\n",
    "\n",
    "classe_prevista = knn.predict(nuovo_punto)\n",
    "print(f\"\\nIl nuovo punto {nuovo_punto} è stato classificato come: {iris.target_names[classe_prevista][0]}\")\n",
    "\n",
    "# Visualizzazione della decision boundary e del nuovo punto\n",
    "h = 0.02\n",
    "x_min, x_max = X_train[:, 0].min() - 1, X_train[:, 0].max() + 1\n",
    "y_min, y_max = X_train[:, 1].min() - 1, X_train[:, 1].max() + 1\n",
    "xx, yy = np.meshgrid(np.arange(x_min, x_max, h), np.arange(y_min, y_max, h))\n",
    "Z = knn.predict(np.c_[xx.ravel(), yy.ravel()])\n",
    "Z = Z.reshape(xx.shape)\n",
    "\n",
    "# Plot della decision boundary\n",
    "plt.figure(figsize=(10, 6))\n",
    "plt.contourf(xx, yy, Z, alpha=0.4, cmap=plt.cm.Paired)\n",
    "plt.scatter(X_train[:, 0], X_train[:, 1], c=y_train, marker='o', edgecolor='k', label='Training', cmap=plt.cm.Paired)\n",
    "plt.scatter(X_test[:, 0], X_test[:, 1], c=y_test, marker='x', facecolor='k', label='Test', cmap=plt.cm.Paired)\n",
    "\n",
    "# Visualizziamo il nuovo punto\n",
    "plt.scatter(nuovo_punto[:, 0], nuovo_punto[:, 1], c='red', marker='*', s=200, label='Nuovo Punto', edgecolor='k')\n",
    "\n",
    "# Troviamo ed evidenziamo i K vicini più vicini al nuovo punto\n",
    "distanze, indici_vicini = knn.kneighbors(nuovo_punto)\n",
    "for indice in indici_vicini[0]:\n",
    "    plt.scatter(X_train[indice, 0], X_train[indice, 1], facecolors='none', edgecolors='black', s=200, linewidths=2, label='K Vicini' if indice == indici_vicini[0][0] else \"\")\n",
    "\n",
    "# Impostiamo etichette e titolo del grafico\n",
    "plt.xlabel('Lunghezza Sepali')\n",
    "plt.ylabel('Lunghezza Petali')\n",
    "plt.title(f'KNN con K={k} - Confini di Decisione')\n",
    "plt.legend()\n",
    "plt.grid(True)\n",
    "plt.show()"
   ]
  }
 ],
 "metadata": {
  "kernelspec": {
   "display_name": "python39",
   "language": "python",
   "name": "python3"
  },
  "language_info": {
   "codemirror_mode": {
    "name": "ipython",
    "version": 3
   },
   "file_extension": ".py",
   "mimetype": "text/x-python",
   "name": "python",
   "nbconvert_exporter": "python",
   "pygments_lexer": "ipython3",
   "version": "3.9.15"
  }
 },
 "nbformat": 4,
 "nbformat_minor": 2
}
