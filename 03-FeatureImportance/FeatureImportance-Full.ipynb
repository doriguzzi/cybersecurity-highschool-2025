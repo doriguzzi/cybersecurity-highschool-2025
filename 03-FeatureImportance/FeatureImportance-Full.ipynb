{
 "cells": [
  {
   "cell_type": "markdown",
   "id": "c2916704",
   "metadata": {},
   "source": [
    "# Analisi dell'importanza delle features\n",
    "In questo laboratorio utilizzerai una Random Forest per valutare l’importanza relativa delle features del set di addestramento. Questa tecnica viene spesso utilizzata per eliminare le features irrilevanti prima dell’addestramento.\n",
    "\n",
    "Utilizzerai un dataset contenente traffico benigno e vari tipi di attacchi DDoS, estratto dal dataset CIC-DDoS2019 (https://www.unb.ca/cic/datasets/ddos-2019.html).\n",
    "Il traffico di rete è stato precedentemente pre-elaborato in modo che i pacchetti siano raggruppati in flussi di traffico bidirezionali utilizzando il 5-tuple (IP sorgente, IP destinazione, Porta sorgente, Porta destinazione, protocollo).\n",
    "Ogni flusso è rappresentato da 21 features dell’header dei pacchetti, calcolate su un massimo di 1000 pacchetti.\n",
    "\n",
    "| Feature nr.         | Feature Name |\n",
    "|---------------------|---------------------|\n",
    "| 00 | timestamp (mean IAT) | \n",
    "| 01 | packet_length (mean)| \n",
    "| 02 | IP_flags_df (sum) |\n",
    "| 03 | IP_flags_mf (sum) |\n",
    "| 04 | IP_flags_rb (sum) | \n",
    "| 05 | IP_frag_off (sum) |\n",
    "| 06 | protocols (mean) |\n",
    "| 07 | TCP_length (mean) |\n",
    "| 08 | TCP_flags_ack (sum) |\n",
    "| 09 | TCP_flags_cwr (sum) |\n",
    "| 10 | TCP_flags_ece (sum) |\n",
    "| 11 | TCP_flags_fin (sum) |\n",
    "| 12 | TCP_flags_push (sum) |\n",
    "| 13 | TCP_flags_res (sum) |\n",
    "| 14 | TCP_flags_reset (sum) |\n",
    "| 15 | TCP_flags_syn (sum) |\n",
    "| 16 | TCP_flags_urg (sum) |\n",
    "| 17 | TCP_window_size (mean) |\n",
    "| 18 | UDP_length (mean) |\n",
    "| 19 | ICMP_type (mean) |\n",
    "| 20 | Packets (counter)|"
   ]
  },
  {
   "cell_type": "code",
   "execution_count": null,
   "id": "2a046372",
   "metadata": {},
   "outputs": [],
   "source": [
    "# Author: Roberto Doriguzzi-Corin\n",
    "# Project: Corso di Algoritmi di Machine Learning per la rilevazione di attacchi informatici\n",
    "#\n",
    "# Licensed under the Apache License, Version 2.0 (the \"License\");\n",
    "# you may not use this file except in compliance with the License.\n",
    "# You may obtain a copy of the License at\n",
    "#\n",
    "#   http://www.apache.org/licenses/LICENSE-2.0\n",
    "#\n",
    "# Unless required by applicable law or agreed to in writing, software\n",
    "# distributed under the License is distributed on an \"AS IS\" BASIS,\n",
    "# WITHOUT WARRANTIES OR CONDITIONS OF ANY KIND, either express or implied.\n",
    "# See the License for the specific language governing permissions and\n",
    "# limitations under the License.\n",
    "\n",
    "import os\n",
    "import numpy as np\n",
    "import glob\n",
    "import h5py\n",
    "import sys\n",
    "import copy\n",
    "import argparse\n",
    "from sklearn.metrics import classification_report, accuracy_score\n",
    "import logging\n",
    "from util_functions import *\n",
    "from IPython.display import Image, display\n",
    "from sklearn.tree import export_graphviz\n",
    "from sklearn.ensemble import RandomForestClassifier\n",
    "\n",
    "OUTPUT_FILE = \"./rf_tree\"\n",
    "DATASET_FOLDER = \"../Dataset\"\n",
    "X_train, y_train = load_dataset(DATASET_FOLDER + \"/*\" + '-train.hdf5')\n",
    "\n",
    "from matplotlib import pyplot as plt\n",
    "plt.rcParams.update({'figure.figsize': (12.0, 8.0)})\n",
    "plt.rcParams.update({'font.size': 14})\n",
    "\n",
    "SEED=1\n",
    "feature_names = get_feature_names()\n",
    "target_names = ['benign', 'dns',  'syn', 'udplag', 'webddos'] \n",
    "X_train, y_train = load_dataset(DATASET_FOLDER + \"/*\" + '-train.hdf5')"
   ]
  },
  {
   "cell_type": "code",
   "execution_count": null,
   "id": "1cb98914",
   "metadata": {},
   "outputs": [],
   "source": [
    "def show_tree(tree_clf, feature_names):\n",
    "    export_graphviz(\n",
    "        tree_clf,\n",
    "        out_file=OUTPUT_FILE + \".dot\",\n",
    "        feature_names=feature_names,\n",
    "        class_names=target_names,\n",
    "        rounded=True,\n",
    "        filled=True\n",
    "    )\n",
    "\n",
    "    # comvert the \"dot\" file into a png image\n",
    "    os.system(\"dot -Tpng \" + OUTPUT_FILE + \".dot -o \" + OUTPUT_FILE + \".png\")\n",
    "    display(Image(filename=OUTPUT_FILE + \".png\"))"
   ]
  },
  {
   "cell_type": "markdown",
   "id": "57d7e4b0",
   "metadata": {},
   "source": [
    "# Classification with Random Forests\n",
    "Implementa un classificatore Random Forest con 100 alberi (```estimators```) e sperimenta con gli iperparametri di regolarizzazione, come ```max_depth```, ```min_samples_split```, ```min_samples_leaf```."
   ]
  },
  {
   "cell_type": "code",
   "execution_count": null,
   "id": "bfc50c63",
   "metadata": {},
   "outputs": [],
   "source": [
    "### Riempi gli spazi dopo i segni di uguale\n",
    "rf = RandomForestClassifier(n_estimators=  , max_depth= , min_samples_split= , oob_score=True)\n",
    "rf.fit(X_train,y_train)\n",
    "##########################"
   ]
  },
  {
   "cell_type": "markdown",
   "id": "9cb08276",
   "metadata": {},
   "source": [
    "# Feature importance\n",
    "Ora visualizziamo un grafico delle caratteristiche più importanti, calcolate utilizzando la riduzione media dell’impurità di Gini."
   ]
  },
  {
   "cell_type": "code",
   "execution_count": null,
   "id": "a06e44bc",
   "metadata": {},
   "outputs": [],
   "source": [
    "### Assign the feature importances to \"fi\"\n",
    "fi = rf.feature_importances_\n",
    "plt.barh(feature_names, fi)\n",
    "plt.show()"
   ]
  },
  {
   "cell_type": "markdown",
   "id": "eb57f437",
   "metadata": {},
   "source": [
    "# Inference using the RF model\n",
    "Usa la Random Forest addestrata per fare previsioni sul set di test."
   ]
  },
  {
   "cell_type": "code",
   "execution_count": null,
   "id": "77493aa3",
   "metadata": {},
   "outputs": [],
   "source": [
    "X_test, y_test = load_dataset(DATASET_FOLDER + \"/*\" + '-test.hdf5')\n",
    "\n",
    "### Completa il codice tra le parentesi\n",
    "y_pred = rf.predict( )"
   ]
  },
  {
   "cell_type": "markdown",
   "id": "fc226f3b",
   "metadata": {},
   "source": [
    "# Stampiamo i risultati della classificazione"
   ]
  },
  {
   "cell_type": "code",
   "execution_count": null,
   "id": "7c0fe8d4",
   "metadata": {},
   "outputs": [],
   "source": [
    "print(classification_report(y_test, y_pred, target_names=target_names))"
   ]
  },
  {
   "cell_type": "markdown",
   "id": "54d44d09",
   "metadata": {},
   "source": [
    "# Matrice di confusione multi-classe\n",
    "Ora ritorniamo alle nostre 5 classi di traffic (benigno e 4 attacchi) e analizziamo in dettaglio il risultato della classificazione della Random Forest."
   ]
  },
  {
   "cell_type": "code",
   "execution_count": null,
   "id": "96973b83",
   "metadata": {},
   "outputs": [],
   "source": [
    "import matplotlib.pyplot as plt\n",
    "from sklearn.metrics import ConfusionMatrixDisplay, accuracy_score, classification_report, confusion_matrix\n",
    "np.set_printoptions(precision=2)\n",
    "\n",
    "cm = confusion_matrix(y_test, y_pred)\n",
    "disp = ConfusionMatrixDisplay(confusion_matrix=cm,display_labels=target_names)\n",
    "disp.plot(cmap='Blues')\n",
    "plt.title('Confusion Matrix')\n",
    "plt.show()"
   ]
  }
 ],
 "metadata": {
  "kernelspec": {
   "display_name": "python39",
   "language": "python",
   "name": "python3"
  },
  "language_info": {
   "codemirror_mode": {
    "name": "ipython",
    "version": 3
   },
   "file_extension": ".py",
   "mimetype": "text/x-python",
   "name": "python",
   "nbconvert_exporter": "python",
   "pygments_lexer": "ipython3",
   "version": "3.9.15"
  }
 },
 "nbformat": 4,
 "nbformat_minor": 5
}
