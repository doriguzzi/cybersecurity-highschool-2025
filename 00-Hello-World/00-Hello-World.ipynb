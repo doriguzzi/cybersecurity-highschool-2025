{
 "cells": [
  {
   "cell_type": "markdown",
   "metadata": {},
   "source": [
    "# Programma \"Hello World\"\n",
    "Questo notebook di esempio fornisce una dimostrazione di due operazioni importanti del Machine Learning: l'addestramento ed il test di un modello. \n",
    "In particolare, questo codice usa un algoritmo di Deep Learning per classificare le immagini di fiori \"iris\" in tre classi: Setosa, Versicolor, Virginica.\n",
    "\n",
    "| <img src=\"./Iris-Dataset.png\" width=\"90%\">  |\n",
    "|--|\n",
    "\n"
   ]
  },
  {
   "cell_type": "markdown",
   "metadata": {},
   "source": [
    "# Importazione delle librerie necessarie"
   ]
  },
  {
   "cell_type": "code",
   "execution_count": 1,
   "metadata": {},
   "outputs": [],
   "source": [
    "import tensorflow as tf\n",
    "from tensorflow.keras import layers, models\n",
    "from sklearn.datasets import load_iris\n",
    "from sklearn.model_selection import train_test_split\n",
    "from sklearn.preprocessing import OneHotEncoder\n",
    "import numpy as np"
   ]
  },
  {
   "cell_type": "markdown",
   "metadata": {},
   "source": [
    "# Caricamento del dataset"
   ]
  },
  {
   "cell_type": "code",
   "execution_count": 7,
   "metadata": {},
   "outputs": [],
   "source": [
    "# Load the Iris dataset\n",
    "iris = load_iris()\n",
    "X = iris.data  # Features: sepal length, sepal width, petal length, petal width\n",
    "y = iris.target.reshape(-1, 1)  # Labels: Setosa, Versicolor, Virginica\n",
    "\n",
    "# One-hot encode the labels\n",
    "encoder = OneHotEncoder(sparse_output=False)\n",
    "y = encoder.fit_transform(y)\n",
    "\n",
    "# Split the dataset into training and testing sets\n",
    "X_train, X_test, y_train, y_test = train_test_split(X, y, test_size=0.2, random_state=42)"
   ]
  },
  {
   "cell_type": "markdown",
   "metadata": {},
   "source": [
    "# Definizione del modello di Machine Learning"
   ]
  },
  {
   "cell_type": "code",
   "execution_count": 8,
   "metadata": {},
   "outputs": [],
   "source": [
    "# Build the model\n",
    "model = models.Sequential([\n",
    "    layers.Dense(10, activation='relu', input_shape=(X.shape[1],)),  # Hidden layer with 10 neurons\n",
    "    layers.Dense(3, activation='softmax')  # Output layer with 3 neurons (one for each class)\n",
    "])\n",
    "\n",
    "# Compile the model\n",
    "model.compile(optimizer='adam', loss='categorical_crossentropy', metrics=['accuracy'])"
   ]
  },
  {
   "cell_type": "markdown",
   "metadata": {},
   "source": [
    "# Addestramento del modello"
   ]
  },
  {
   "cell_type": "code",
   "execution_count": null,
   "metadata": {},
   "outputs": [],
   "source": [
    "# Train the model\n",
    "print(\"Training the model...\")\n",
    "model.fit(X_train, y_train, epochs=50, batch_size=8, verbose=1)"
   ]
  },
  {
   "cell_type": "markdown",
   "metadata": {},
   "source": [
    "# Test del modello"
   ]
  },
  {
   "cell_type": "code",
   "execution_count": null,
   "metadata": {},
   "outputs": [],
   "source": [
    "# Evaluate the model\n",
    "print(\"\\nEvaluating the model...\")\n",
    "loss, accuracy = model.evaluate(X_test, y_test, verbose=0)\n",
    "print(f\"Test Accuracy: {accuracy:.2f}\")"
   ]
  },
  {
   "cell_type": "markdown",
   "metadata": {},
   "source": [
    "# Prova con nuovi dati\n",
    "Inserisci dei valori di lunghezza/larghezza dei sepali e lunghezza/larghezza dei petali e vedi che tipo di fiore stai descrivendo. \n",
    "\n",
    "| <img src=\"./struttura-del-fiore.png\" width=\"90%\">  |\n",
    "|--|"
   ]
  },
  {
   "cell_type": "code",
   "execution_count": null,
   "metadata": {},
   "outputs": [],
   "source": [
    "# Cambia i valori qui sotto\n",
    "lunghezza_sepalo = 5.1\n",
    "larghezza_sepalo = 3.5\n",
    "lunghezza_petalo = 1.4\n",
    "larghezza_petalo = 0.2\n",
    "\n",
    "\n",
    "sample_input = np.array([[\n",
    "    lunghezza_sepalo,\n",
    "    larghezza_sepalo,\n",
    "    lunghezza_petalo,\n",
    "    larghezza_petalo\n",
    "    ]])  # Example input for Setosa\n",
    "prediction = model.predict(sample_input)\n",
    "predicted_class = iris.target_names[np.argmax(prediction)]\n",
    "\n",
    "print(f\"\\nClasse di fiore iris {sample_input}: {predicted_class}\")"
   ]
  }
 ],
 "metadata": {
  "kernelspec": {
   "display_name": "python39",
   "language": "python",
   "name": "python3"
  },
  "language_info": {
   "codemirror_mode": {
    "name": "ipython",
    "version": 3
   },
   "file_extension": ".py",
   "mimetype": "text/x-python",
   "name": "python",
   "nbconvert_exporter": "python",
   "pygments_lexer": "ipython3",
   "version": "3.9.15"
  }
 },
 "nbformat": 4,
 "nbformat_minor": 2
}
